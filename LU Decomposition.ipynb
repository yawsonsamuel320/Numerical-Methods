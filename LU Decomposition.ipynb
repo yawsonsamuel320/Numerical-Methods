{
 "cells": [
  {
   "cell_type": "code",
   "execution_count": 1,
   "metadata": {},
   "outputs": [],
   "source": [
    "import numpy as np"
   ]
  },
  {
   "cell_type": "code",
   "execution_count": 58,
   "metadata": {},
   "outputs": [],
   "source": [
    "# Define the matrix\n",
    "A = np.array([[6,  -2, 2,  4],\n",
    "              [12, -8, 6, 10],\n",
    "              [ 3, -13, 9, 3],\n",
    "              [-6, 4, 1, -18]])"
   ]
  },
  {
   "cell_type": "code",
   "execution_count": 95,
   "metadata": {},
   "outputs": [],
   "source": [
    "# Create a function that finds the U of A\n",
    "def decompose_LU(matrix, verbose=False):\n",
    "    shape = matrix.shape\n",
    "    n = shape[0]\n",
    "    \n",
    "    L = np.eye(n, n)\n",
    "    U = matrix.copy()\n",
    "\n",
    "    for i in range(1, n):\n",
    "        for j in range(i):\n",
    "            L[i, j] = U[i, j]/U[j, j]\n",
    "            U[i] = U[i] - L[i, j]*U[j]\n",
    "            \n",
    "            if verbose == True:\n",
    "                print(\"\\n\\n\")\n",
    "                print(\"Step\", j+1, \"of Row\", i+1)\n",
    "                print(\"_ _ _ _ _ _ _ _ _ _ \", end = \"\\n\\n\")\n",
    "                print(\"L\", L, \"U\", U, sep=\"\\n\\n\", end=\"\\n\\n\\n\")\n",
    "            \n",
    "    return L, U"
   ]
  },
  {
   "cell_type": "code",
   "execution_count": 97,
   "metadata": {
    "scrolled": false
   },
   "outputs": [],
   "source": [
    "L, U = decompose_LU(A)"
   ]
  },
  {
   "cell_type": "code",
   "execution_count": 98,
   "metadata": {},
   "outputs": [
    {
     "data": {
      "text/plain": [
       "array([[ 1. ,  0. ,  0. ,  0. ],\n",
       "       [ 2. ,  1. ,  0. ,  0. ],\n",
       "       [ 0.5,  3. ,  1. ,  0. ],\n",
       "       [-1. , -0.5,  2. ,  1. ]])"
      ]
     },
     "execution_count": 98,
     "metadata": {},
     "output_type": "execute_result"
    }
   ],
   "source": [
    "L"
   ]
  },
  {
   "cell_type": "code",
   "execution_count": 102,
   "metadata": {},
   "outputs": [
    {
     "data": {
      "text/plain": [
       "array([[ 6, -2,  2,  4],\n",
       "       [ 0, -4,  2,  2],\n",
       "       [ 0,  0,  2, -5],\n",
       "       [ 0,  0,  0, -3]])"
      ]
     },
     "execution_count": 102,
     "metadata": {},
     "output_type": "execute_result"
    }
   ],
   "source": [
    "U"
   ]
  },
  {
   "cell_type": "code",
   "execution_count": 101,
   "metadata": {},
   "outputs": [
    {
     "data": {
      "text/plain": [
       "True"
      ]
     },
     "execution_count": 101,
     "metadata": {},
     "output_type": "execute_result"
    }
   ],
   "source": [
    "np.all(np.matmul(L, U) == A)"
   ]
  },
  {
   "cell_type": "code",
   "execution_count": 104,
   "metadata": {},
   "outputs": [],
   "source": [
    "Q = np.array([[3, -0.1, -0.2], [0.1, 7, -0.3], [0.3, -0.2, 10]])"
   ]
  },
  {
   "cell_type": "code",
   "execution_count": 105,
   "metadata": {},
   "outputs": [
    {
     "data": {
      "text/plain": [
       "(array([[ 1.        ,  0.        ,  0.        ],\n",
       "        [ 0.03333333,  1.        ,  0.        ],\n",
       "        [ 0.1       , -0.02712994,  1.        ]]),\n",
       " array([[ 3.        , -0.1       , -0.2       ],\n",
       "        [ 0.        ,  7.00333333, -0.29333333],\n",
       "        [ 0.        ,  0.        , 10.01204188]]))"
      ]
     },
     "execution_count": 105,
     "metadata": {},
     "output_type": "execute_result"
    }
   ],
   "source": [
    "decompose_LU(Q)"
   ]
  },
  {
   "cell_type": "code",
   "execution_count": 106,
   "metadata": {},
   "outputs": [],
   "source": [
    "K = np.array([[1, -2, 3], [-1, 3, 1], [2, -5, 5]])"
   ]
  },
  {
   "cell_type": "code",
   "execution_count": 107,
   "metadata": {},
   "outputs": [
    {
     "data": {
      "text/plain": [
       "(array([[ 1.,  0.,  0.],\n",
       "        [-1.,  1.,  0.],\n",
       "        [ 2., -1.,  1.]]),\n",
       " array([[ 1, -2,  3],\n",
       "        [ 0,  1,  4],\n",
       "        [ 0,  0,  3]]))"
      ]
     },
     "execution_count": 107,
     "metadata": {},
     "output_type": "execute_result"
    }
   ],
   "source": [
    "decompose_LU(K)"
   ]
  },
  {
   "cell_type": "code",
   "execution_count": 108,
   "metadata": {},
   "outputs": [],
   "source": [
    "A = np.array([[-1, 2, -3, 5], [1, 3, 2, -1], [3, -3, 2, 4], [4, 2, 5, 1]])"
   ]
  },
  {
   "cell_type": "code",
   "execution_count": 109,
   "metadata": {},
   "outputs": [
    {
     "data": {
      "text/plain": [
       "(array([[ 1.        ,  0.        ,  0.        ,  0.        ],\n",
       "        [-1.        ,  1.        ,  0.        ,  0.        ],\n",
       "        [-3.        ,  0.6       ,  1.        ,  0.        ],\n",
       "        [-4.        ,  2.        ,  0.83333333,  1.        ]]),\n",
       " array([[-1,  2, -3,  5],\n",
       "        [ 0,  5, -1,  4],\n",
       "        [ 0,  0, -6, 16],\n",
       "        [ 0,  0,  0,  0]]))"
      ]
     },
     "execution_count": 109,
     "metadata": {},
     "output_type": "execute_result"
    }
   ],
   "source": [
    "decompose_LU(A)"
   ]
  },
  {
   "cell_type": "code",
   "execution_count": null,
   "metadata": {},
   "outputs": [],
   "source": []
  }
 ],
 "metadata": {
  "kernelspec": {
   "display_name": "Python 3",
   "language": "python",
   "name": "python3"
  },
  "language_info": {
   "codemirror_mode": {
    "name": "ipython",
    "version": 3
   },
   "file_extension": ".py",
   "mimetype": "text/x-python",
   "name": "python",
   "nbconvert_exporter": "python",
   "pygments_lexer": "ipython3",
   "version": "3.7.6"
  }
 },
 "nbformat": 4,
 "nbformat_minor": 4
}
