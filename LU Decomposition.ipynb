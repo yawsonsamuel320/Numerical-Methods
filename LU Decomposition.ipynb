{
 "cells": [
  {
   "cell_type": "markdown",
   "metadata": {},
   "source": [
    "# LU Decomposition "
   ]
  },
  {
   "cell_type": "markdown",
   "metadata": {},
   "source": [
    "## Step 1: Import Libraries"
   ]
  },
  {
   "cell_type": "code",
   "execution_count": 296,
   "metadata": {},
   "outputs": [],
   "source": [
    "import numpy as np\n",
    "import sympy as sp"
   ]
  },
  {
   "cell_type": "markdown",
   "metadata": {},
   "source": [
    "### Set up Sympy for use"
   ]
  },
  {
   "cell_type": "code",
   "execution_count": 297,
   "metadata": {
    "collapsed": true
   },
   "outputs": [
    {
     "name": "stdout",
     "output_type": "stream",
     "text": [
      "IPython console for SymPy 1.5.1 (Python 3.7.6-64-bit) (ground types: python)\n",
      "\n",
      "These commands were executed:\n",
      ">>> from __future__ import division\n",
      ">>> from sympy import *\n",
      ">>> x, y, z, t = symbols('x y z t')\n",
      ">>> k, m, n = symbols('k m n', integer=True)\n",
      ">>> f, g, h = symbols('f g h', cls=Function)\n",
      ">>> init_printing()\n",
      "\n",
      "Documentation can be found at https://docs.sympy.org/1.5.1/\n",
      "\n"
     ]
    }
   ],
   "source": [
    "sp.init_session()"
   ]
  },
  {
   "cell_type": "markdown",
   "metadata": {},
   "source": [
    "## Step 2: Input Question"
   ]
  },
  {
   "cell_type": "markdown",
   "metadata": {},
   "source": [
    "*Define the coefficient matrix as A and the constant matrix as B*"
   ]
  },
  {
   "cell_type": "code",
   "execution_count": 294,
   "metadata": {},
   "outputs": [],
   "source": [
    "# Define the matrix\n",
    "A = np.array([[6,  -2, 2,  4],\n",
    "              [12, -8, 6, 10],\n",
    "              [ 3, -13, 9, 3],\n",
    "              [-6, 4, 1, -18]])\n",
    "\n",
    "B = [16, 26, -19, -34]"
   ]
  },
  {
   "cell_type": "markdown",
   "metadata": {},
   "source": [
    "## Step 3: Create a Function to Compute LU Decomposition"
   ]
  },
  {
   "cell_type": "code",
   "execution_count": 298,
   "metadata": {},
   "outputs": [],
   "source": [
    "# Create a function that finds computes the LU decomposition of \"A\"\n",
    "def decompose_LU(matrix, verbose=False):\n",
    "    shape = matrix.shape\n",
    "    n = shape[0]\n",
    "    \n",
    "    L = np.eye(n, n)\n",
    "    U = matrix.copy()\n",
    "\n",
    "    for i in range(1, n):\n",
    "        for j in range(i):\n",
    "            L[i, j] = U[i, j]/U[j, j]\n",
    "            U[i] = U[i] - L[i, j]*U[j]\n",
    "            \n",
    "            if verbose == True:\n",
    "                print(\"\\n\\n\")\n",
    "                print(\"Step\", j+1, \"of Row\", i+1)\n",
    "                print(\"_ _ _ _ _ _ _ _ _ _ \", end = \"\\n\\n\")\n",
    "                print(\"L\", L, \"U\", U, sep=\"\\n\\n\", end=\"\\n\\n\\n\")\n",
    "            \n",
    "    return L, U"
   ]
  },
  {
   "cell_type": "code",
   "execution_count": 254,
   "metadata": {
    "scrolled": false
   },
   "outputs": [],
   "source": [
    "L, U = decompose_LU(A)"
   ]
  },
  {
   "cell_type": "markdown",
   "metadata": {},
   "source": [
    "## Step 4: Create a Function to Compute Y"
   ]
  },
  {
   "cell_type": "markdown",
   "metadata": {},
   "source": [
    "*Y is defined as the matrix for which LY = B*"
   ]
  },
  {
   "cell_type": "code",
   "execution_count": 301,
   "metadata": {},
   "outputs": [],
   "source": [
    "def compute_Y(L, B):\n",
    "    n = L.shape[0]\n",
    "    list = [\"y_\" + str(i+1) for i in range(n)]\n",
    "    Y = np.array(symbols(\" \".join(list)))\n",
    "    \n",
    "    for i in range(n):\n",
    "        M = np.matmul(L, Y)\n",
    "        eqn = Eq(M[i], B[i])\n",
    "        Y[i] = solve(eqn, Y[i])[0]\n",
    "\n",
    "    Y.reshape(1, n)\n",
    "    Y = Y.astype(\"int\") \n",
    "    \n",
    "    return Y"
   ]
  },
  {
   "cell_type": "code",
   "execution_count": 302,
   "metadata": {},
   "outputs": [],
   "source": [
    "Y = compute_Y(L, B)"
   ]
  },
  {
   "cell_type": "markdown",
   "metadata": {},
   "source": [
    "## Step 5: Create a Function for Backward Substitution"
   ]
  },
  {
   "cell_type": "code",
   "execution_count": 303,
   "metadata": {},
   "outputs": [],
   "source": [
    "# Compute X: UX = Y\n",
    "def compute_X(U, Y):\n",
    "    n = L.shape[0]\n",
    "    list = [\"x_\" + str(i+1) for i in range(n)]\n",
    "    X = np.array(symbols(\" \".join(list)))\n",
    "    \n",
    "    for i in range(n-1, -1, -1):\n",
    "        M = np.matmul(U, X)\n",
    "        eqn = Eq(M[i], Y[i])\n",
    "        X[i] = solve(eqn, X[i])[0]\n",
    "        \n",
    "    X.reshape(1, n)\n",
    "    \n",
    "    \n",
    "    return X"
   ]
  },
  {
   "cell_type": "markdown",
   "metadata": {},
   "source": [
    "X = compute_X(U, Y)"
   ]
  },
  {
   "cell_type": "code",
   "execution_count": 104,
   "metadata": {},
   "outputs": [],
   "source": [
    "Q = np.array([[3, -0.1, -0.2], [0.1, 7, -0.3], [0.3, -0.2, 10]])"
   ]
  },
  {
   "cell_type": "code",
   "execution_count": 105,
   "metadata": {},
   "outputs": [
    {
     "data": {
      "text/plain": [
       "(array([[ 1.        ,  0.        ,  0.        ],\n",
       "        [ 0.03333333,  1.        ,  0.        ],\n",
       "        [ 0.1       , -0.02712994,  1.        ]]),\n",
       " array([[ 3.        , -0.1       , -0.2       ],\n",
       "        [ 0.        ,  7.00333333, -0.29333333],\n",
       "        [ 0.        ,  0.        , 10.01204188]]))"
      ]
     },
     "execution_count": 105,
     "metadata": {},
     "output_type": "execute_result"
    }
   ],
   "source": [
    "decompose_LU(Q)"
   ]
  },
  {
   "cell_type": "code",
   "execution_count": 106,
   "metadata": {},
   "outputs": [],
   "source": [
    "K = np.array([[1, -2, 3], [-1, 3, 1], [2, -5, 5]])"
   ]
  },
  {
   "cell_type": "code",
   "execution_count": 107,
   "metadata": {},
   "outputs": [
    {
     "data": {
      "text/plain": [
       "(array([[ 1.,  0.,  0.],\n",
       "        [-1.,  1.,  0.],\n",
       "        [ 2., -1.,  1.]]),\n",
       " array([[ 1, -2,  3],\n",
       "        [ 0,  1,  4],\n",
       "        [ 0,  0,  3]]))"
      ]
     },
     "execution_count": 107,
     "metadata": {},
     "output_type": "execute_result"
    }
   ],
   "source": [
    "decompose_LU(K)"
   ]
  },
  {
   "cell_type": "code",
   "execution_count": 108,
   "metadata": {},
   "outputs": [],
   "source": [
    "A = np.array([[-1, 2, -3, 5], [1, 3, 2, -1], [3, -3, 2, 4], [4, 2, 5, 1]])"
   ]
  },
  {
   "cell_type": "code",
   "execution_count": 109,
   "metadata": {},
   "outputs": [
    {
     "data": {
      "text/plain": [
       "(array([[ 1.        ,  0.        ,  0.        ,  0.        ],\n",
       "        [-1.        ,  1.        ,  0.        ,  0.        ],\n",
       "        [-3.        ,  0.6       ,  1.        ,  0.        ],\n",
       "        [-4.        ,  2.        ,  0.83333333,  1.        ]]),\n",
       " array([[-1,  2, -3,  5],\n",
       "        [ 0,  5, -1,  4],\n",
       "        [ 0,  0, -6, 16],\n",
       "        [ 0,  0,  0,  0]]))"
      ]
     },
     "execution_count": 109,
     "metadata": {},
     "output_type": "execute_result"
    }
   ],
   "source": [
    "decompose_LU(A)"
   ]
  },
  {
   "cell_type": "code",
   "execution_count": null,
   "metadata": {},
   "outputs": [],
   "source": []
  }
 ],
 "metadata": {
  "kernelspec": {
   "display_name": "Python 3",
   "language": "python",
   "name": "python3"
  },
  "language_info": {
   "codemirror_mode": {
    "name": "ipython",
    "version": 3
   },
   "file_extension": ".py",
   "mimetype": "text/x-python",
   "name": "python",
   "nbconvert_exporter": "python",
   "pygments_lexer": "ipython3",
   "version": "3.7.6"
  }
 },
 "nbformat": 4,
 "nbformat_minor": 4
}
