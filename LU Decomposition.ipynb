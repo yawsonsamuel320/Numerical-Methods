{
 "cells": [
  {
   "cell_type": "code",
   "execution_count": 135,
   "metadata": {},
   "outputs": [],
   "source": [
    "import numpy as np"
   ]
  },
  {
   "cell_type": "code",
   "execution_count": 136,
   "metadata": {},
   "outputs": [],
   "source": [
    "# Define the matrix\n",
    "A = np.array([[6,  -2, 2,  4],\n",
    "              [12, -8, 6, 10],\n",
    "              [ 3, -13, 9, 3],\n",
    "              [-6, 4, 1, -18]])"
   ]
  },
  {
   "cell_type": "code",
   "execution_count": 137,
   "metadata": {},
   "outputs": [],
   "source": [
    "# Create a function that finds computes the LU decomposition of \"A\"\n",
    "def decompose_LU(matrix, verbose=False):\n",
    "    shape = matrix.shape\n",
    "    n = shape[0]\n",
    "    \n",
    "    L = np.eye(n, n)\n",
    "    U = matrix.copy()\n",
    "\n",
    "    for i in range(1, n):\n",
    "        for j in range(i):\n",
    "            L[i, j] = U[i, j]/U[j, j]\n",
    "            U[i] = U[i] - L[i, j]*U[j]\n",
    "            \n",
    "            if verbose == True:\n",
    "                print(\"\\n\\n\")\n",
    "                print(\"Step\", j+1, \"of Row\", i+1)\n",
    "                print(\"_ _ _ _ _ _ _ _ _ _ \", end = \"\\n\\n\")\n",
    "                print(\"L\", L, \"U\", U, sep=\"\\n\\n\", end=\"\\n\\n\\n\")\n",
    "            \n",
    "    return L, U"
   ]
  },
  {
   "cell_type": "code",
   "execution_count": 138,
   "metadata": {
    "scrolled": false
   },
   "outputs": [],
   "source": [
    "L, U = decompose_LU(A)"
   ]
  },
  {
   "cell_type": "code",
   "execution_count": 139,
   "metadata": {},
   "outputs": [
    {
     "data": {
      "text/plain": [
       "array([[ 1. ,  0. ,  0. ,  0. ],\n",
       "       [ 2. ,  1. ,  0. ,  0. ],\n",
       "       [ 0.5,  3. ,  1. ,  0. ],\n",
       "       [-1. , -0.5,  2. ,  1. ]])"
      ]
     },
     "execution_count": 139,
     "metadata": {},
     "output_type": "execute_result"
    }
   ],
   "source": [
    "L"
   ]
  },
  {
   "cell_type": "code",
   "execution_count": 140,
   "metadata": {},
   "outputs": [
    {
     "data": {
      "text/plain": [
       "array([[ 6, -2,  2,  4],\n",
       "       [ 0, -4,  2,  2],\n",
       "       [ 0,  0,  2, -5],\n",
       "       [ 0,  0,  0, -3]])"
      ]
     },
     "execution_count": 140,
     "metadata": {},
     "output_type": "execute_result"
    }
   ],
   "source": [
    "U"
   ]
  },
  {
   "cell_type": "code",
   "execution_count": 141,
   "metadata": {},
   "outputs": [
    {
     "data": {
      "text/plain": [
       "True"
      ]
     },
     "execution_count": 141,
     "metadata": {},
     "output_type": "execute_result"
    }
   ],
   "source": [
    "np.all(np.matmul(L, U) == A)"
   ]
  },
  {
   "cell_type": "code",
   "execution_count": 143,
   "metadata": {},
   "outputs": [],
   "source": [
    "import sympy as sp"
   ]
  },
  {
   "cell_type": "code",
   "execution_count": 144,
   "metadata": {
    "collapsed": true
   },
   "outputs": [
    {
     "name": "stdout",
     "output_type": "stream",
     "text": [
      "IPython console for SymPy 1.5.1 (Python 3.7.6-64-bit) (ground types: python)\n",
      "\n",
      "These commands were executed:\n",
      ">>> from __future__ import division\n",
      ">>> from sympy import *\n",
      ">>> x, y, z, t = symbols('x y z t')\n",
      ">>> k, m, n = symbols('k m n', integer=True)\n",
      ">>> f, g, h = symbols('f g h', cls=Function)\n",
      ">>> init_printing()\n",
      "\n",
      "Documentation can be found at https://docs.sympy.org/1.5.1/\n",
      "\n"
     ]
    }
   ],
   "source": [
    "sp.init_session()"
   ]
  },
  {
   "cell_type": "code",
   "execution_count": 189,
   "metadata": {},
   "outputs": [
    {
     "data": {
      "text/plain": [
       "array([16, -6, -9, -3])"
      ]
     },
     "execution_count": 189,
     "metadata": {},
     "output_type": "execute_result"
    }
   ],
   "source": [
    "# Compute Y: LY = B\n",
    "Y = np.array([x, y, z, t])\n",
    "B = [16, 26, -19, -34]\n",
    "\n",
    "\n",
    "for i in range(4):\n",
    "    M = np.matmul(L, Y)\n",
    "    eqn = Eq(M[i], B[i])\n",
    "    Y[i] = solve(eqn, Y[i])[0]\n",
    "\n",
    "Y.reshape(1, 4)\n",
    "Y.astype(\"int\")"
   ]
  },
  {
   "cell_type": "code",
   "execution_count": 197,
   "metadata": {},
   "outputs": [
    {
     "data": {
      "image/png": "[encoded data removed]",
      "text/latex": [
       "$\\displaystyle - 3 t = -3.0$"
      ],
      "text/plain": [
       "-3⋅t = -3.0"
      ]
     },
     "metadata": {},
     "output_type": "display_data"
    },
    {
     "name": "stdout",
     "output_type": "stream",
     "text": [
      "[x y z 1.00000000000000]\n",
      "1.00000000000000\n"
     ]
    },
    {
     "data": {
      "image/png": "[encoded data removed]",
      "text/latex": [
       "$\\displaystyle 2 z - 5.0 = -9.0$"
      ],
      "text/plain": [
       "2⋅z - 5.0 = -9.0"
      ]
     },
     "metadata": {},
     "output_type": "display_data"
    },
    {
     "name": "stdout",
     "output_type": "stream",
     "text": [
      "[x y -2.00000000000000 1.00000000000000]\n",
      "-2.00000000000000\n"
     ]
    },
    {
     "data": {
      "image/png": "[encoded data removed]",
      "text/latex": [
       "$\\displaystyle - 4 y - 2.0 = -6.0$"
      ],
      "text/plain": [
       "-4⋅y - 2.0 = -6.0"
      ]
     },
     "metadata": {},
     "output_type": "display_data"
    },
    {
     "name": "stdout",
     "output_type": "stream",
     "text": [
      "[x 1.00000000000000 -2.00000000000000 1.00000000000000]\n",
      "1.00000000000000\n"
     ]
    },
    {
     "data": {
      "image/png": "[encoded data removed]",
      "text/latex": [
       "$\\displaystyle 6 x - 2.0 = 16.0$"
      ],
      "text/plain": [
       "6⋅x - 2.0 = 16.0"
      ]
     },
     "metadata": {},
     "output_type": "display_data"
    },
    {
     "name": "stdout",
     "output_type": "stream",
     "text": [
      "[3.00000000000000 1.00000000000000 -2.00000000000000 1.00000000000000]\n",
      "3.00000000000000\n"
     ]
    },
    {
     "data": {
      "text/plain": [
       "array([3.00000000000000, 1.00000000000000, -2.00000000000000,\n",
       "       1.00000000000000], dtype=object)"
      ]
     },
     "metadata": {},
     "output_type": "display_data"
    }
   ],
   "source": [
    "# Compute X: UX = Y\n",
    "# Compute Y: LY = B\n",
    "X = np.array([x, y, z, t])\n",
    "\n",
    "for i in range(3, -1, -1):\n",
    "    M = np.matmul(U, X)\n",
    "    eqn = Eq(M[i], Y[i])\n",
    "    X[i] = solve(eqn, X[i])[0]\n",
    "    display(eqn)\n",
    "    print(X)\n",
    "    print(X[i])"
   ]
  },
  {
   "cell_type": "code",
   "execution_count": null,
   "metadata": {},
   "outputs": [],
   "source": []
  },
  {
   "cell_type": "code",
   "execution_count": 167,
   "metadata": {},
   "outputs": [],
   "source": [
    "solve?"
   ]
  },
  {
   "cell_type": "code",
   "execution_count": 157,
   "metadata": {},
   "outputs": [
    {
     "name": "stdout",
     "output_type": "stream",
     "text": [
      "1.0*x\n",
      "2.0*x + 1.0*y\n",
      "0.5*x + 3.0*y + 1.0*z\n",
      "1.0*t - 1.0*x - 0.5*y + 2.0*z\n"
     ]
    }
   ],
   "source": [
    "for i in range(len(M)):\n",
    "    print(M[i])"
   ]
  },
  {
   "cell_type": "code",
   "execution_count": 118,
   "metadata": {},
   "outputs": [],
   "source": [
    "eqn = Eq(x+9, 8)"
   ]
  },
  {
   "cell_type": "code",
   "execution_count": 124,
   "metadata": {},
   "outputs": [
    {
     "data": {
      "image/png": "[encoded data removed]",
      "text/latex": [
       "$\\displaystyle -1$"
      ],
      "text/plain": [
       "-1"
      ]
     },
     "execution_count": 124,
     "metadata": {},
     "output_type": "execute_result"
    }
   ],
   "source": [
    "solve(eqn)[0]"
   ]
  },
  {
   "cell_type": "code",
   "execution_count": 104,
   "metadata": {},
   "outputs": [],
   "source": [
    "Q = np.array([[3, -0.1, -0.2], [0.1, 7, -0.3], [0.3, -0.2, 10]])"
   ]
  },
  {
   "cell_type": "code",
   "execution_count": 105,
   "metadata": {},
   "outputs": [
    {
     "data": {
      "text/plain": [
       "(array([[ 1.        ,  0.        ,  0.        ],\n",
       "        [ 0.03333333,  1.        ,  0.        ],\n",
       "        [ 0.1       , -0.02712994,  1.        ]]),\n",
       " array([[ 3.        , -0.1       , -0.2       ],\n",
       "        [ 0.        ,  7.00333333, -0.29333333],\n",
       "        [ 0.        ,  0.        , 10.01204188]]))"
      ]
     },
     "execution_count": 105,
     "metadata": {},
     "output_type": "execute_result"
    }
   ],
   "source": [
    "decompose_LU(Q)"
   ]
  },
  {
   "cell_type": "code",
   "execution_count": 106,
   "metadata": {},
   "outputs": [],
   "source": [
    "K = np.array([[1, -2, 3], [-1, 3, 1], [2, -5, 5]])"
   ]
  },
  {
   "cell_type": "code",
   "execution_count": 107,
   "metadata": {},
   "outputs": [
    {
     "data": {
      "text/plain": [
       "(array([[ 1.,  0.,  0.],\n",
       "        [-1.,  1.,  0.],\n",
       "        [ 2., -1.,  1.]]),\n",
       " array([[ 1, -2,  3],\n",
       "        [ 0,  1,  4],\n",
       "        [ 0,  0,  3]]))"
      ]
     },
     "execution_count": 107,
     "metadata": {},
     "output_type": "execute_result"
    }
   ],
   "source": [
    "decompose_LU(K)"
   ]
  },
  {
   "cell_type": "code",
   "execution_count": 108,
   "metadata": {},
   "outputs": [],
   "source": [
    "A = np.array([[-1, 2, -3, 5], [1, 3, 2, -1], [3, -3, 2, 4], [4, 2, 5, 1]])"
   ]
  },
  {
   "cell_type": "code",
   "execution_count": 109,
   "metadata": {},
   "outputs": [
    {
     "data": {
      "text/plain": [
       "(array([[ 1.        ,  0.        ,  0.        ,  0.        ],\n",
       "        [-1.        ,  1.        ,  0.        ,  0.        ],\n",
       "        [-3.        ,  0.6       ,  1.        ,  0.        ],\n",
       "        [-4.        ,  2.        ,  0.83333333,  1.        ]]),\n",
       " array([[-1,  2, -3,  5],\n",
       "        [ 0,  5, -1,  4],\n",
       "        [ 0,  0, -6, 16],\n",
       "        [ 0,  0,  0,  0]]))"
      ]
     },
     "execution_count": 109,
     "metadata": {},
     "output_type": "execute_result"
    }
   ],
   "source": [
    "decompose_LU(A)"
   ]
  },
  {
   "cell_type": "code",
   "execution_count": null,
   "metadata": {},
   "outputs": [],
   "source": []
  }
 ],
 "metadata": {
  "kernelspec": {
   "display_name": "Python 3",
   "language": "python",
   "name": "python3"
  },
  "language_info": {
   "codemirror_mode": {
    "name": "ipython",
    "version": 3
   },
   "file_extension": ".py",
   "mimetype": "text/x-python",
   "name": "python",
   "nbconvert_exporter": "python",
   "pygments_lexer": "ipython3",
   "version": "3.7.6"
  }
 },
 "nbformat": 4,
 "nbformat_minor": 4
}
