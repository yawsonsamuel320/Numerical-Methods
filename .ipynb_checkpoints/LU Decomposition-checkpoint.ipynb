{
 "cells": [
  {
   "cell_type": "code",
   "execution_count": 1,
   "metadata": {},
   "outputs": [],
   "source": [
    "import numpy as np"
   ]
  },
  {
   "cell_type": "code",
   "execution_count": 58,
   "metadata": {},
   "outputs": [],
   "source": [
    "A = np.array([[6,  -2, 2,  4],\n",
    "              [12, -8, 6, 10],\n",
    "              [ 3, -13, 9, 3],\n",
    "              [-6, 4, 1, -18]])"
   ]
  },
  {
   "cell_type": "code",
   "execution_count": 59,
   "metadata": {},
   "outputs": [
    {
     "data": {
      "text/plain": [
       "array([[  6,  -2,   2,   4],\n",
       "       [ 12,  -8,   6,  10],\n",
       "       [  3, -13,   9,   3],\n",
       "       [ -6,   4,   1, -18]])"
      ]
     },
     "execution_count": 59,
     "metadata": {},
     "output_type": "execute_result"
    }
   ],
   "source": [
    "U = A.copy()\n",
    "U"
   ]
  },
  {
   "cell_type": "code",
   "execution_count": null,
   "metadata": {},
   "outputs": [],
   "source": [
    "# Create a function that finds the U of A\n",
    "def decompose_U(matrix):\n",
    "    shape = matrix.shape\n",
    "    n = shape[0]\n",
    "    \n",
    "    L = np.eye(n, n)\n",
    "    U = matrix.copy()\n",
    "\n",
    "    for i in range(n):\n",
    "        i += 1\n",
    "        for j in range(n):\n",
    "            \n",
    "            \n",
    "            L[i]"
   ]
  },
  {
   "cell_type": "code",
   "execution_count": null,
   "metadata": {},
   "outputs": [],
   "source": [
    "# Create a function that finds L of A\n",
    "def decompose_L(matrix):\n",
    "    shape = matrix.shape\n",
    "    n = shape[0]\n",
    "    \n",
    "    L = np.eye(n, n)\n",
    "    for i in range(1, shape[0]):\n",
    "        for j in range(shape[1])\n",
    "            L[1, 0] = matrix[1, 0]/matrix[0, 0]\n",
    "            L[2, 0] = matrix[2, 0]/matrix[0, 0]\n",
    "            L[3, 0]\n",
    "    "
   ]
  },
  {
   "cell_type": "code",
   "execution_count": null,
   "metadata": {},
   "outputs": [],
   "source": [
    "# Create a function that returns the \"L\" and \"U\" of \"A\"\n",
    "def decompose_LU(matrix):\n",
    "    L = decompose_L(matrix)\n",
    "    U = decompose_U(matrix)\n",
    "    return L, U"
   ]
  },
  {
   "cell_type": "code",
   "execution_count": null,
   "metadata": {},
   "outputs": [],
   "source": [
    "L, U = decompose_LU(A)"
   ]
  }
 ],
 "metadata": {
  "kernelspec": {
   "display_name": "Python 3",
   "language": "python",
   "name": "python3"
  },
  "language_info": {
   "codemirror_mode": {
    "name": "ipython",
    "version": 3
   },
   "file_extension": ".py",
   "mimetype": "text/x-python",
   "name": "python",
   "nbconvert_exporter": "python",
   "pygments_lexer": "ipython3",
   "version": "3.7.6"
  }
 },
 "nbformat": 4,
 "nbformat_minor": 4
}
